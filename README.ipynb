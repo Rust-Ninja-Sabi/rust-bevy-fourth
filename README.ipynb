{
 "cells": [
  {
   "cell_type": "markdown",
   "id": "f4169895-9110-4d6a-8552-3ee0d49d8270",
   "metadata": {},
   "source": [
    "# bevy-fourth - 3D space game with rust and bevy"
   ]
  },
  {
   "cell_type": "markdown",
   "id": "e5363834-a363-4313-9ba8-73a15855c68a",
   "metadata": {},
   "source": [
    "My fourth 3D game with rust(https://www.rust-lang.org) and the bevy framework(https://bevyengine.org)\n",
    "using Rapier https://github.com/dimforge/bevy_rapier\n",
    "\n",
    "A classic space shooter  \n",
    "    \n",
    "All assests are made by myself in Blender (www.blender.org)."
   ]
  },
  {
   "cell_type": "markdown",
   "id": "7668f01d-8a35-4c17-bd2f-95285b0076eb",
   "metadata": {},
   "source": [
    "## 1. Step _ space and opponents"
   ]
  },
  {
   "cell_type": "markdown",
   "id": "1a3ce75c-ed7c-483f-a295-716fc6205037",
   "metadata": {},
   "source": [
    "<img src=\"img/step1.gif\" width=\"320\" align=\"left\"><br><br><br><br><br><br><br><br><br><br><br><br><br><br>"
   ]
  },
  {
   "cell_type": "markdown",
   "id": "27d69a2b-1819-4743-99e3-28c557dc77ba",
   "metadata": {},
   "source": [
    "## 2. Step _ score and laser"
   ]
  },
  {
   "cell_type": "markdown",
   "id": "9f40a4ae-d7be-40c5-8807-486bf56ef741",
   "metadata": {},
   "source": [
    "<img src=\"img/step2.gif\" width=\"320\" align=\"left\"><br><br><br><br><br><br><br><br><br><br><br><br><br><br>"
   ]
  },
  {
   "cell_type": "markdown",
   "id": "421bdf4c-78c0-4844-88ff-5b134a70cbfa",
   "metadata": {},
   "source": [
    "## 3. Step _ level two"
   ]
  },
  {
   "cell_type": "markdown",
   "id": "d0de19f1-e948-45e0-af89-7137165c0199",
   "metadata": {},
   "source": [
    "<img src=\"img/step3.gif\" width=\"320\" align=\"left\"><br><br><br><br><br><br><br><br><br><br><br><br><br><br>"
   ]
  },
  {
   "cell_type": "code",
   "execution_count": null,
   "id": "14056786-a401-4dc6-8e97-af2c9781c571",
   "metadata": {},
   "outputs": [],
   "source": []
  }
 ],
 "metadata": {
  "kernelspec": {
   "display_name": "Rust",
   "language": "rust",
   "name": "rust"
  },
  "language_info": {
   "codemirror_mode": "rust",
   "file_extension": ".rs",
   "mimetype": "text/rust",
   "name": "Rust",
   "pygment_lexer": "rust",
   "version": ""
  }
 },
 "nbformat": 4,
 "nbformat_minor": 5
}
